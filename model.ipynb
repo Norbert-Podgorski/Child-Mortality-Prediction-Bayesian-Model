{
 "cells": [
  {
   "attachments": {},
   "cell_type": "markdown",
   "metadata": {},
   "source": [
    "# Data"
   ]
  },
  {
   "cell_type": "code",
   "execution_count": 16,
   "metadata": {},
   "outputs": [],
   "source": [
    "from cmdstanpy import CmdStanModel\n",
    "\n",
    "\n",
    "import arviz as az\n",
    "import numpy as np\n",
    "import scipy.stats as stats\n",
    "\n",
    "import matplotlib.pyplot as plt\n",
    "import pandas as pd\n",
    "\n",
    "import seaborn as sns\n",
    "\n",
    "import warnings\n",
    "warnings.filterwarnings('ignore')"
   ]
  },
  {
   "cell_type": "code",
   "execution_count": 35,
   "metadata": {},
   "outputs": [
    {
     "data": {
      "text/html": [
       "<div>\n",
       "<style scoped>\n",
       "    .dataframe tbody tr th:only-of-type {\n",
       "        vertical-align: middle;\n",
       "    }\n",
       "\n",
       "    .dataframe tbody tr th {\n",
       "        vertical-align: top;\n",
       "    }\n",
       "\n",
       "    .dataframe thead th {\n",
       "        text-align: right;\n",
       "    }\n",
       "</style>\n",
       "<table border=\"1\" class=\"dataframe\">\n",
       "  <thead>\n",
       "    <tr style=\"text-align: right;\">\n",
       "      <th></th>\n",
       "      <th>country</th>\n",
       "      <th>child_mortality</th>\n",
       "      <th>food_supply</th>\n",
       "      <th>med_beds</th>\n",
       "      <th>co2_emission</th>\n",
       "      <th>gender_equality</th>\n",
       "    </tr>\n",
       "  </thead>\n",
       "  <tbody>\n",
       "    <tr>\n",
       "      <th>0</th>\n",
       "      <td>Afghanistan</td>\n",
       "      <td>60</td>\n",
       "      <td>-2.763008</td>\n",
       "      <td>-1.242540</td>\n",
       "      <td>-1.063447</td>\n",
       "      <td>-1.558142</td>\n",
       "    </tr>\n",
       "    <tr>\n",
       "      <th>1</th>\n",
       "      <td>Albania</td>\n",
       "      <td>8</td>\n",
       "      <td>0.758070</td>\n",
       "      <td>-0.284864</td>\n",
       "      <td>-0.825780</td>\n",
       "      <td>-0.052888</td>\n",
       "    </tr>\n",
       "    <tr>\n",
       "      <th>2</th>\n",
       "      <td>United Arab Emirates</td>\n",
       "      <td>7</td>\n",
       "      <td>0.472226</td>\n",
       "      <td>-0.857133</td>\n",
       "      <td>2.698314</td>\n",
       "      <td>-1.168484</td>\n",
       "    </tr>\n",
       "    <tr>\n",
       "      <th>3</th>\n",
       "      <td>Argentina</td>\n",
       "      <td>9</td>\n",
       "      <td>0.537190</td>\n",
       "      <td>0.587166</td>\n",
       "      <td>-0.324117</td>\n",
       "      <td>0.657037</td>\n",
       "    </tr>\n",
       "    <tr>\n",
       "      <th>4</th>\n",
       "      <td>Armenia</td>\n",
       "      <td>12</td>\n",
       "      <td>-0.159229</td>\n",
       "      <td>0.299085</td>\n",
       "      <td>-0.772411</td>\n",
       "      <td>-0.293088</td>\n",
       "    </tr>\n",
       "    <tr>\n",
       "      <th>...</th>\n",
       "      <td>...</td>\n",
       "      <td>...</td>\n",
       "      <td>...</td>\n",
       "      <td>...</td>\n",
       "      <td>...</td>\n",
       "      <td>...</td>\n",
       "    </tr>\n",
       "    <tr>\n",
       "      <th>93</th>\n",
       "      <td>Uruguay</td>\n",
       "      <td>7</td>\n",
       "      <td>0.305917</td>\n",
       "      <td>-0.537908</td>\n",
       "      <td>-0.757532</td>\n",
       "      <td>0.678388</td>\n",
       "    </tr>\n",
       "    <tr>\n",
       "      <th>94</th>\n",
       "      <td>United States</td>\n",
       "      <td>6</td>\n",
       "      <td>1.740333</td>\n",
       "      <td>-0.304329</td>\n",
       "      <td>1.797969</td>\n",
       "      <td>0.592984</td>\n",
       "    </tr>\n",
       "    <tr>\n",
       "      <th>95</th>\n",
       "      <td>Uzbekistan</td>\n",
       "      <td>20</td>\n",
       "      <td>-0.151434</td>\n",
       "      <td>0.100542</td>\n",
       "      <td>-0.629503</td>\n",
       "      <td>-0.725448</td>\n",
       "    </tr>\n",
       "    <tr>\n",
       "      <th>96</th>\n",
       "      <td>Vietnam</td>\n",
       "      <td>20</td>\n",
       "      <td>-0.078673</td>\n",
       "      <td>-0.374403</td>\n",
       "      <td>-0.709506</td>\n",
       "      <td>-0.164981</td>\n",
       "    </tr>\n",
       "    <tr>\n",
       "      <th>97</th>\n",
       "      <td>Yemen</td>\n",
       "      <td>54</td>\n",
       "      <td>-2.497952</td>\n",
       "      <td>-1.117964</td>\n",
       "      <td>-1.035325</td>\n",
       "      <td>-2.540293</td>\n",
       "    </tr>\n",
       "  </tbody>\n",
       "</table>\n",
       "<p>98 rows × 6 columns</p>\n",
       "</div>"
      ],
      "text/plain": [
       "                 country  child_mortality  food_supply  med_beds  \\\n",
       "0            Afghanistan               60    -2.763008 -1.242540   \n",
       "1                Albania                8     0.758070 -0.284864   \n",
       "2   United Arab Emirates                7     0.472226 -0.857133   \n",
       "3              Argentina                9     0.537190  0.587166   \n",
       "4                Armenia               12    -0.159229  0.299085   \n",
       "..                   ...              ...          ...       ...   \n",
       "93               Uruguay                7     0.305917 -0.537908   \n",
       "94         United States                6     1.740333 -0.304329   \n",
       "95            Uzbekistan               20    -0.151434  0.100542   \n",
       "96               Vietnam               20    -0.078673 -0.374403   \n",
       "97                 Yemen               54    -2.497952 -1.117964   \n",
       "\n",
       "    co2_emission  gender_equality  \n",
       "0      -1.063447        -1.558142  \n",
       "1      -0.825780        -0.052888  \n",
       "2       2.698314        -1.168484  \n",
       "3      -0.324117         0.657037  \n",
       "4      -0.772411        -0.293088  \n",
       "..           ...              ...  \n",
       "93     -0.757532         0.678388  \n",
       "94      1.797969         0.592984  \n",
       "95     -0.629503        -0.725448  \n",
       "96     -0.709506        -0.164981  \n",
       "97     -1.035325        -2.540293  \n",
       "\n",
       "[98 rows x 6 columns]"
      ]
     },
     "execution_count": 35,
     "metadata": {},
     "output_type": "execute_result"
    }
   ],
   "source": [
    "data = pd.read_csv(\"analysis_data/analysis_data_normalized.csv\", index_col = [0])\n",
    "data[\"child_mortality\"] = data[\"child_mortality\"].astype(int)\n",
    "data[\"food_supply\"] -= data[\"food_supply\"].mean()\n",
    "data[\"food_supply\"] /= data[\"food_supply\"].std()\n",
    "data[\"med_beds\"] -= data[\"med_beds\"].mean()\n",
    "data[\"med_beds\"] /= data[\"med_beds\"].std()\n",
    "data[\"co2_emission\"] -= data[\"co2_emission\"].mean()\n",
    "data[\"co2_emission\"] /= data[\"co2_emission\"].std()\n",
    "data[\"gender_equality\"] -= data[\"gender_equality\"].mean()\n",
    "data[\"gender_equality\"] /= data[\"gender_equality\"].std()\n",
    "data"
   ]
  },
  {
   "cell_type": "code",
   "execution_count": 36,
   "metadata": {},
   "outputs": [
    {
     "data": {
      "text/plain": [
       "12.591836734693878"
      ]
     },
     "execution_count": 36,
     "metadata": {},
     "output_type": "execute_result"
    }
   ],
   "source": [
    "data[\"child_mortality\"].mean()"
   ]
  },
  {
   "cell_type": "code",
   "execution_count": 37,
   "metadata": {},
   "outputs": [
    {
     "data": {
      "text/plain": [
       "13.754726823666408"
      ]
     },
     "execution_count": 37,
     "metadata": {},
     "output_type": "execute_result"
    }
   ],
   "source": [
    "data[\"child_mortality\"].std()"
   ]
  },
  {
   "cell_type": "code",
   "execution_count": 38,
   "metadata": {},
   "outputs": [
    {
     "data": {
      "text/plain": [
       "-7.386381755669409e-16"
      ]
     },
     "execution_count": 38,
     "metadata": {},
     "output_type": "execute_result"
    }
   ],
   "source": [
    "data[\"food_supply\"].mean()"
   ]
  },
  {
   "cell_type": "code",
   "execution_count": 39,
   "metadata": {},
   "outputs": [
    {
     "data": {
      "text/plain": [
       "0.9999999999999998"
      ]
     },
     "execution_count": 39,
     "metadata": {},
     "output_type": "execute_result"
    }
   ],
   "source": [
    "data[\"food_supply\"].std()"
   ]
  },
  {
   "cell_type": "code",
   "execution_count": 40,
   "metadata": {},
   "outputs": [
    {
     "data": {
      "text/plain": [
       "-4.5315225494904345e-18"
      ]
     },
     "execution_count": 40,
     "metadata": {},
     "output_type": "execute_result"
    }
   ],
   "source": [
    "data[\"med_beds\"].mean()"
   ]
  },
  {
   "cell_type": "code",
   "execution_count": 41,
   "metadata": {},
   "outputs": [
    {
     "data": {
      "text/plain": [
       "1.0000000000000002"
      ]
     },
     "execution_count": 41,
     "metadata": {},
     "output_type": "execute_result"
    }
   ],
   "source": [
    "data[\"med_beds\"].std()"
   ]
  },
  {
   "cell_type": "code",
   "execution_count": 42,
   "metadata": {},
   "outputs": [
    {
     "data": {
      "text/plain": [
       "-3.398641912117826e-17"
      ]
     },
     "execution_count": 42,
     "metadata": {},
     "output_type": "execute_result"
    }
   ],
   "source": [
    "data[\"co2_emission\"].mean()"
   ]
  },
  {
   "cell_type": "code",
   "execution_count": 43,
   "metadata": {},
   "outputs": [
    {
     "data": {
      "text/plain": [
       "1.0"
      ]
     },
     "execution_count": 43,
     "metadata": {},
     "output_type": "execute_result"
    }
   ],
   "source": [
    "data[\"co2_emission\"].std()"
   ]
  },
  {
   "cell_type": "code",
   "execution_count": 45,
   "metadata": {},
   "outputs": [
    {
     "data": {
      "text/plain": [
       "-1.9032394707859825e-16"
      ]
     },
     "execution_count": 45,
     "metadata": {},
     "output_type": "execute_result"
    }
   ],
   "source": [
    "data[\"gender_equality\"].mean()"
   ]
  },
  {
   "cell_type": "code",
   "execution_count": 44,
   "metadata": {},
   "outputs": [
    {
     "data": {
      "text/plain": [
       "1.0"
      ]
     },
     "execution_count": 44,
     "metadata": {},
     "output_type": "execute_result"
    }
   ],
   "source": [
    "data[\"gender_equality\"].std()"
   ]
  },
  {
   "cell_type": "code",
   "execution_count": 58,
   "metadata": {},
   "outputs": [
    {
     "data": {
      "image/png": "[encoded data removed]",
      "text/plain": [
       "<Figure size 432x288 with 1 Axes>"
      ]
     },
     "metadata": {
      "needs_background": "light"
     },
     "output_type": "display_data"
    }
   ],
   "source": [
    "data['child_mortality'].plot.hist(bins=10)\n",
    "plt.show()"
   ]
  },
  {
   "attachments": {},
   "cell_type": "markdown",
   "metadata": {},
   "source": [
    "# Prior"
   ]
  },
  {
   "cell_type": "code",
   "execution_count": 67,
   "metadata": {},
   "outputs": [
    {
     "name": "stderr",
     "output_type": "stream",
     "text": [
      "INFO:cmdstanpy:found newer exe file, not recompiling\n",
      "INFO:cmdstanpy:CmdStan start processing\n",
      "chain 1 |\u001b[34m██████████\u001b[0m| 00:00 Sampling completed                      "
     ]
    },
    {
     "name": "stdout",
     "output_type": "stream",
     "text": [
      "                                                                                "
     ]
    },
    {
     "name": "stderr",
     "output_type": "stream",
     "text": [
      "\n",
      "INFO:cmdstanpy:CmdStan done processing.\n"
     ]
    },
    {
     "name": "stdout",
     "output_type": "stream",
     "text": [
      "\n"
     ]
    }
   ],
   "source": [
    "model_prior=CmdStanModel(stan_file='prior.stan')\n",
    "\n",
    "sim=model_prior.sample(data={}, fixed_param=True, iter_sampling=1000, iter_warmup=0, chains = 1)"
   ]
  },
  {
   "cell_type": "code",
   "execution_count": 54,
   "metadata": {},
   "outputs": [
    {
     "data": {
      "text/html": [
       "<div>\n",
       "<style scoped>\n",
       "    .dataframe tbody tr th:only-of-type {\n",
       "        vertical-align: middle;\n",
       "    }\n",
       "\n",
       "    .dataframe tbody tr th {\n",
       "        vertical-align: top;\n",
       "    }\n",
       "\n",
       "    .dataframe thead th {\n",
       "        text-align: right;\n",
       "    }\n",
       "</style>\n",
       "<table border=\"1\" class=\"dataframe\">\n",
       "  <thead>\n",
       "    <tr style=\"text-align: right;\">\n",
       "      <th></th>\n",
       "      <th>lp__</th>\n",
       "      <th>accept_stat__</th>\n",
       "      <th>alpha</th>\n",
       "      <th>lambda</th>\n",
       "      <th>child_mortality</th>\n",
       "      <th>food_supply_coef</th>\n",
       "      <th>co2_emission_coef</th>\n",
       "      <th>gender_equality_coef</th>\n",
       "      <th>med_beds_coef</th>\n",
       "      <th>food_supply</th>\n",
       "      <th>co2_emission</th>\n",
       "      <th>med_beds</th>\n",
       "      <th>gender_equality</th>\n",
       "    </tr>\n",
       "  </thead>\n",
       "  <tbody>\n",
       "    <tr>\n",
       "      <th>0</th>\n",
       "      <td>0.0</td>\n",
       "      <td>0.0</td>\n",
       "      <td>1.403520</td>\n",
       "      <td>13.825700</td>\n",
       "      <td>16.0</td>\n",
       "      <td>0.557482</td>\n",
       "      <td>0.570808</td>\n",
       "      <td>0.517201</td>\n",
       "      <td>0.506327</td>\n",
       "      <td>-0.159023</td>\n",
       "      <td>0.173116</td>\n",
       "      <td>-0.619615</td>\n",
       "      <td>2.951610</td>\n",
       "    </tr>\n",
       "    <tr>\n",
       "      <th>1</th>\n",
       "      <td>0.0</td>\n",
       "      <td>0.0</td>\n",
       "      <td>0.969056</td>\n",
       "      <td>0.118501</td>\n",
       "      <td>0.0</td>\n",
       "      <td>0.624445</td>\n",
       "      <td>0.532425</td>\n",
       "      <td>0.327052</td>\n",
       "      <td>0.451604</td>\n",
       "      <td>-1.929760</td>\n",
       "      <td>-1.959520</td>\n",
       "      <td>-1.831790</td>\n",
       "      <td>-0.080479</td>\n",
       "    </tr>\n",
       "    <tr>\n",
       "      <th>2</th>\n",
       "      <td>0.0</td>\n",
       "      <td>0.0</td>\n",
       "      <td>0.358766</td>\n",
       "      <td>1.169090</td>\n",
       "      <td>1.0</td>\n",
       "      <td>0.619143</td>\n",
       "      <td>0.571151</td>\n",
       "      <td>0.536981</td>\n",
       "      <td>0.396390</td>\n",
       "      <td>1.007530</td>\n",
       "      <td>-1.413120</td>\n",
       "      <td>0.564854</td>\n",
       "      <td>-0.452790</td>\n",
       "    </tr>\n",
       "    <tr>\n",
       "      <th>3</th>\n",
       "      <td>0.0</td>\n",
       "      <td>0.0</td>\n",
       "      <td>-0.013000</td>\n",
       "      <td>0.893712</td>\n",
       "      <td>0.0</td>\n",
       "      <td>0.644731</td>\n",
       "      <td>0.615173</td>\n",
       "      <td>0.499370</td>\n",
       "      <td>0.283944</td>\n",
       "      <td>0.133218</td>\n",
       "      <td>0.508450</td>\n",
       "      <td>-2.402750</td>\n",
       "      <td>0.368868</td>\n",
       "    </tr>\n",
       "    <tr>\n",
       "      <th>4</th>\n",
       "      <td>0.0</td>\n",
       "      <td>0.0</td>\n",
       "      <td>3.527710</td>\n",
       "      <td>39.030900</td>\n",
       "      <td>46.0</td>\n",
       "      <td>0.577737</td>\n",
       "      <td>0.545286</td>\n",
       "      <td>0.602154</td>\n",
       "      <td>0.617589</td>\n",
       "      <td>1.133350</td>\n",
       "      <td>0.231491</td>\n",
       "      <td>-0.088848</td>\n",
       "      <td>-0.978972</td>\n",
       "    </tr>\n",
       "    <tr>\n",
       "      <th>...</th>\n",
       "      <td>...</td>\n",
       "      <td>...</td>\n",
       "      <td>...</td>\n",
       "      <td>...</td>\n",
       "      <td>...</td>\n",
       "      <td>...</td>\n",
       "      <td>...</td>\n",
       "      <td>...</td>\n",
       "      <td>...</td>\n",
       "      <td>...</td>\n",
       "      <td>...</td>\n",
       "      <td>...</td>\n",
       "      <td>...</td>\n",
       "    </tr>\n",
       "    <tr>\n",
       "      <th>995</th>\n",
       "      <td>0.0</td>\n",
       "      <td>0.0</td>\n",
       "      <td>3.207240</td>\n",
       "      <td>44.510400</td>\n",
       "      <td>46.0</td>\n",
       "      <td>0.522397</td>\n",
       "      <td>0.483880</td>\n",
       "      <td>0.520390</td>\n",
       "      <td>0.462401</td>\n",
       "      <td>0.053637</td>\n",
       "      <td>0.604648</td>\n",
       "      <td>0.193686</td>\n",
       "      <td>0.342672</td>\n",
       "    </tr>\n",
       "    <tr>\n",
       "      <th>996</th>\n",
       "      <td>0.0</td>\n",
       "      <td>0.0</td>\n",
       "      <td>1.434910</td>\n",
       "      <td>1.576220</td>\n",
       "      <td>2.0</td>\n",
       "      <td>0.444545</td>\n",
       "      <td>0.520947</td>\n",
       "      <td>0.519966</td>\n",
       "      <td>0.295837</td>\n",
       "      <td>-1.571450</td>\n",
       "      <td>1.246470</td>\n",
       "      <td>-1.647750</td>\n",
       "      <td>-0.852309</td>\n",
       "    </tr>\n",
       "    <tr>\n",
       "      <th>997</th>\n",
       "      <td>0.0</td>\n",
       "      <td>0.0</td>\n",
       "      <td>2.958310</td>\n",
       "      <td>9.296470</td>\n",
       "      <td>5.0</td>\n",
       "      <td>0.493892</td>\n",
       "      <td>0.407329</td>\n",
       "      <td>0.391104</td>\n",
       "      <td>0.365112</td>\n",
       "      <td>-0.131962</td>\n",
       "      <td>-0.417686</td>\n",
       "      <td>-0.289064</td>\n",
       "      <td>-0.991618</td>\n",
       "    </tr>\n",
       "    <tr>\n",
       "      <th>998</th>\n",
       "      <td>0.0</td>\n",
       "      <td>0.0</td>\n",
       "      <td>0.646559</td>\n",
       "      <td>0.643032</td>\n",
       "      <td>1.0</td>\n",
       "      <td>0.456950</td>\n",
       "      <td>0.606773</td>\n",
       "      <td>0.474362</td>\n",
       "      <td>0.552379</td>\n",
       "      <td>-2.038400</td>\n",
       "      <td>-0.480930</td>\n",
       "      <td>0.564103</td>\n",
       "      <td>-0.371979</td>\n",
       "    </tr>\n",
       "    <tr>\n",
       "      <th>999</th>\n",
       "      <td>0.0</td>\n",
       "      <td>0.0</td>\n",
       "      <td>3.203000</td>\n",
       "      <td>15.614200</td>\n",
       "      <td>16.0</td>\n",
       "      <td>0.614283</td>\n",
       "      <td>0.489688</td>\n",
       "      <td>0.342291</td>\n",
       "      <td>0.462724</td>\n",
       "      <td>0.120728</td>\n",
       "      <td>-0.110520</td>\n",
       "      <td>0.010367</td>\n",
       "      <td>-1.401310</td>\n",
       "    </tr>\n",
       "  </tbody>\n",
       "</table>\n",
       "<p>1000 rows × 13 columns</p>\n",
       "</div>"
      ],
      "text/plain": [
       "     lp__  accept_stat__     alpha     lambda  child_mortality  \\\n",
       "0     0.0            0.0  1.403520  13.825700             16.0   \n",
       "1     0.0            0.0  0.969056   0.118501              0.0   \n",
       "2     0.0            0.0  0.358766   1.169090              1.0   \n",
       "3     0.0            0.0 -0.013000   0.893712              0.0   \n",
       "4     0.0            0.0  3.527710  39.030900             46.0   \n",
       "..    ...            ...       ...        ...              ...   \n",
       "995   0.0            0.0  3.207240  44.510400             46.0   \n",
       "996   0.0            0.0  1.434910   1.576220              2.0   \n",
       "997   0.0            0.0  2.958310   9.296470              5.0   \n",
       "998   0.0            0.0  0.646559   0.643032              1.0   \n",
       "999   0.0            0.0  3.203000  15.614200             16.0   \n",
       "\n",
       "     food_supply_coef  co2_emission_coef  gender_equality_coef  med_beds_coef  \\\n",
       "0            0.557482           0.570808              0.517201       0.506327   \n",
       "1            0.624445           0.532425              0.327052       0.451604   \n",
       "2            0.619143           0.571151              0.536981       0.396390   \n",
       "3            0.644731           0.615173              0.499370       0.283944   \n",
       "4            0.577737           0.545286              0.602154       0.617589   \n",
       "..                ...                ...                   ...            ...   \n",
       "995          0.522397           0.483880              0.520390       0.462401   \n",
       "996          0.444545           0.520947              0.519966       0.295837   \n",
       "997          0.493892           0.407329              0.391104       0.365112   \n",
       "998          0.456950           0.606773              0.474362       0.552379   \n",
       "999          0.614283           0.489688              0.342291       0.462724   \n",
       "\n",
       "     food_supply  co2_emission  med_beds  gender_equality  \n",
       "0      -0.159023      0.173116 -0.619615         2.951610  \n",
       "1      -1.929760     -1.959520 -1.831790        -0.080479  \n",
       "2       1.007530     -1.413120  0.564854        -0.452790  \n",
       "3       0.133218      0.508450 -2.402750         0.368868  \n",
       "4       1.133350      0.231491 -0.088848        -0.978972  \n",
       "..           ...           ...       ...              ...  \n",
       "995     0.053637      0.604648  0.193686         0.342672  \n",
       "996    -1.571450      1.246470 -1.647750        -0.852309  \n",
       "997    -0.131962     -0.417686 -0.289064        -0.991618  \n",
       "998    -2.038400     -0.480930  0.564103        -0.371979  \n",
       "999     0.120728     -0.110520  0.010367        -1.401310  \n",
       "\n",
       "[1000 rows x 13 columns]"
      ]
     },
     "execution_count": 54,
     "metadata": {},
     "output_type": "execute_result"
    }
   ],
   "source": [
    "df_prior = sim.draws_pd()\n",
    "df_prior"
   ]
  },
  {
   "cell_type": "code",
   "execution_count": 61,
   "metadata": {},
   "outputs": [
    {
     "data": {
      "image/png": "[encoded data removed]",
      "text/plain": [
       "<Figure size 432x288 with 1 Axes>"
      ]
     },
     "metadata": {
      "needs_background": "light"
     },
     "output_type": "display_data"
    }
   ],
   "source": [
    "df_prior['child_mortality'].plot.hist(bins=60)\n",
    "plt.show()"
   ]
  },
  {
   "cell_type": "code",
   "execution_count": 62,
   "metadata": {},
   "outputs": [
    {
     "data": {
      "image/png": "[encoded data removed]",
      "text/plain": [
       "<Figure size 432x288 with 1 Axes>"
      ]
     },
     "metadata": {
      "needs_background": "light"
     },
     "output_type": "display_data"
    }
   ],
   "source": [
    "fig, ax = plt.subplots()\n",
    "ax.hist(df_prior['child_mortality'], bins=60, alpha=0.5, density=True, label='Prior')\n",
    "ax.hist(data[\"child_mortality\"], bins=10, alpha=0.5, density=True, label='Samples')\n",
    "ax.legend()\n",
    "plt.show()"
   ]
  },
  {
   "cell_type": "code",
   "execution_count": 63,
   "metadata": {},
   "outputs": [
    {
     "data": {
      "text/plain": [
       "6.570163265306121"
      ]
     },
     "execution_count": 63,
     "metadata": {},
     "output_type": "execute_result"
    }
   ],
   "source": [
    "abs(df_prior['child_mortality'].mean() - data['child_mortality'].mean())"
   ]
  },
  {
   "attachments": {},
   "cell_type": "markdown",
   "metadata": {},
   "source": [
    "# Model fitting"
   ]
  },
  {
   "cell_type": "code",
   "execution_count": 69,
   "metadata": {},
   "outputs": [
    {
     "name": "stderr",
     "output_type": "stream",
     "text": [
      "INFO:cmdstanpy:found newer exe file, not recompiling\n"
     ]
    }
   ],
   "source": [
    "model_1=CmdStanModel(stan_file='posterior_1.stan')"
   ]
  },
  {
   "cell_type": "code",
   "execution_count": 70,
   "metadata": {},
   "outputs": [
    {
     "name": "stderr",
     "output_type": "stream",
     "text": [
      "INFO:cmdstanpy:CmdStan start processing\n",
      "chain 1 |\u001b[33m          \u001b[0m| 00:00 Status"
     ]
    },
    {
     "name": "stderr",
     "output_type": "stream",
     "text": [
      "\n",
      "\u001b[A\n",
      "\n",
      "\u001b[A\u001b[A\n",
      "\u001b[A\n",
      "\n",
      "chain 1 |\u001b[33m██▋       \u001b[0m| 00:00 Iteration:  400 / 2000 [ 20%]  (Warmup)\n",
      "\n",
      "\u001b[A\u001b[A\n",
      "\u001b[A\n",
      "\n",
      "chain 1 |\u001b[34m█████▉    \u001b[0m| 00:00 Iteration: 1001 / 2000 [ 50%]  (Sampling)\n",
      "\u001b[A\n",
      "\n",
      "chain 1 |\u001b[34m███████▋  \u001b[0m| 00:00 Iteration: 1400 / 2000 [ 70%]  (Sampling)\n",
      "\u001b[A\n",
      "\n",
      "chain 1 |\u001b[34m█████████▌\u001b[0m| 00:00 Iteration: 1800 / 2000 [ 90%]  (Sampling)\n",
      "\u001b[A\n",
      "\n",
      "chain 1 |\u001b[34m██████████\u001b[0m| 00:00 Sampling completed                       \n",
      "chain 2 |\u001b[34m██████████\u001b[0m| 00:00 Sampling completed                       \n",
      "chain 3 |\u001b[34m██████████\u001b[0m| 00:00 Sampling completed                       \n",
      "chain 4 |\u001b[34m██████████\u001b[0m| 00:00 Sampling completed                       "
     ]
    },
    {
     "name": "stdout",
     "output_type": "stream",
     "text": [
      "                                                                                                                                                                                                                                                                                                                                "
     ]
    },
    {
     "name": "stderr",
     "output_type": "stream",
     "text": [
      "\n",
      "INFO:cmdstanpy:CmdStan done processing.\n"
     ]
    },
    {
     "name": "stdout",
     "output_type": "stream",
     "text": [
      "\n"
     ]
    }
   ],
   "source": [
    "fit_1=model_1.sample(data=dict(N=len(data), child_mortality=data.child_mortality.values, co2_emission=data.co2_emission.values, food_supply=data.food_supply.values, med_beds=data.med_beds.values, gender_equality=data.gender_equality.values), seed=20052020)"
   ]
  },
  {
   "cell_type": "code",
   "execution_count": 74,
   "metadata": {},
   "outputs": [
    {
     "data": {
      "text/html": [
       "<div>\n",
       "<style scoped>\n",
       "    .dataframe tbody tr th:only-of-type {\n",
       "        vertical-align: middle;\n",
       "    }\n",
       "\n",
       "    .dataframe tbody tr th {\n",
       "        vertical-align: top;\n",
       "    }\n",
       "\n",
       "    .dataframe thead th {\n",
       "        text-align: right;\n",
       "    }\n",
       "</style>\n",
       "<table border=\"1\" class=\"dataframe\">\n",
       "  <thead>\n",
       "    <tr style=\"text-align: right;\">\n",
       "      <th></th>\n",
       "      <th>lp__</th>\n",
       "      <th>accept_stat__</th>\n",
       "      <th>stepsize__</th>\n",
       "      <th>treedepth__</th>\n",
       "      <th>n_leapfrog__</th>\n",
       "      <th>divergent__</th>\n",
       "      <th>energy__</th>\n",
       "      <th>alpha</th>\n",
       "      <th>co2_emission_coef</th>\n",
       "      <th>food_supply_coef</th>\n",
       "      <th>...</th>\n",
       "      <th>predicted_child_mortality[89]</th>\n",
       "      <th>predicted_child_mortality[90]</th>\n",
       "      <th>predicted_child_mortality[91]</th>\n",
       "      <th>predicted_child_mortality[92]</th>\n",
       "      <th>predicted_child_mortality[93]</th>\n",
       "      <th>predicted_child_mortality[94]</th>\n",
       "      <th>predicted_child_mortality[95]</th>\n",
       "      <th>predicted_child_mortality[96]</th>\n",
       "      <th>predicted_child_mortality[97]</th>\n",
       "      <th>predicted_child_mortality[98]</th>\n",
       "    </tr>\n",
       "  </thead>\n",
       "  <tbody>\n",
       "    <tr>\n",
       "      <th>0</th>\n",
       "      <td>2179.74</td>\n",
       "      <td>0.983416</td>\n",
       "      <td>0.453529</td>\n",
       "      <td>3.0</td>\n",
       "      <td>15.0</td>\n",
       "      <td>0.0</td>\n",
       "      <td>-2177.03</td>\n",
       "      <td>2.27427</td>\n",
       "      <td>-0.055694</td>\n",
       "      <td>-0.374632</td>\n",
       "      <td>...</td>\n",
       "      <td>14.0</td>\n",
       "      <td>10.0</td>\n",
       "      <td>11.0</td>\n",
       "      <td>4.0</td>\n",
       "      <td>6.0</td>\n",
       "      <td>6.0</td>\n",
       "      <td>2.0</td>\n",
       "      <td>8.0</td>\n",
       "      <td>12.0</td>\n",
       "      <td>50.0</td>\n",
       "    </tr>\n",
       "    <tr>\n",
       "      <th>1</th>\n",
       "      <td>2178.31</td>\n",
       "      <td>0.919655</td>\n",
       "      <td>0.453529</td>\n",
       "      <td>3.0</td>\n",
       "      <td>7.0</td>\n",
       "      <td>0.0</td>\n",
       "      <td>-2176.79</td>\n",
       "      <td>2.31274</td>\n",
       "      <td>-0.011633</td>\n",
       "      <td>-0.369950</td>\n",
       "      <td>...</td>\n",
       "      <td>18.0</td>\n",
       "      <td>10.0</td>\n",
       "      <td>7.0</td>\n",
       "      <td>10.0</td>\n",
       "      <td>5.0</td>\n",
       "      <td>8.0</td>\n",
       "      <td>2.0</td>\n",
       "      <td>16.0</td>\n",
       "      <td>12.0</td>\n",
       "      <td>74.0</td>\n",
       "    </tr>\n",
       "    <tr>\n",
       "      <th>2</th>\n",
       "      <td>2180.18</td>\n",
       "      <td>0.983928</td>\n",
       "      <td>0.453529</td>\n",
       "      <td>3.0</td>\n",
       "      <td>11.0</td>\n",
       "      <td>0.0</td>\n",
       "      <td>-2176.26</td>\n",
       "      <td>2.30201</td>\n",
       "      <td>-0.118125</td>\n",
       "      <td>-0.296382</td>\n",
       "      <td>...</td>\n",
       "      <td>21.0</td>\n",
       "      <td>8.0</td>\n",
       "      <td>5.0</td>\n",
       "      <td>12.0</td>\n",
       "      <td>6.0</td>\n",
       "      <td>6.0</td>\n",
       "      <td>3.0</td>\n",
       "      <td>13.0</td>\n",
       "      <td>18.0</td>\n",
       "      <td>65.0</td>\n",
       "    </tr>\n",
       "    <tr>\n",
       "      <th>3</th>\n",
       "      <td>2179.33</td>\n",
       "      <td>0.886777</td>\n",
       "      <td>0.453529</td>\n",
       "      <td>4.0</td>\n",
       "      <td>15.0</td>\n",
       "      <td>0.0</td>\n",
       "      <td>-2177.51</td>\n",
       "      <td>2.28069</td>\n",
       "      <td>-0.028782</td>\n",
       "      <td>-0.372698</td>\n",
       "      <td>...</td>\n",
       "      <td>19.0</td>\n",
       "      <td>7.0</td>\n",
       "      <td>4.0</td>\n",
       "      <td>7.0</td>\n",
       "      <td>7.0</td>\n",
       "      <td>8.0</td>\n",
       "      <td>6.0</td>\n",
       "      <td>16.0</td>\n",
       "      <td>12.0</td>\n",
       "      <td>56.0</td>\n",
       "    </tr>\n",
       "    <tr>\n",
       "      <th>4</th>\n",
       "      <td>2177.67</td>\n",
       "      <td>0.971384</td>\n",
       "      <td>0.453529</td>\n",
       "      <td>3.0</td>\n",
       "      <td>7.0</td>\n",
       "      <td>0.0</td>\n",
       "      <td>-2176.61</td>\n",
       "      <td>2.28114</td>\n",
       "      <td>-0.110492</td>\n",
       "      <td>-0.295969</td>\n",
       "      <td>...</td>\n",
       "      <td>13.0</td>\n",
       "      <td>2.0</td>\n",
       "      <td>10.0</td>\n",
       "      <td>6.0</td>\n",
       "      <td>6.0</td>\n",
       "      <td>9.0</td>\n",
       "      <td>1.0</td>\n",
       "      <td>13.0</td>\n",
       "      <td>9.0</td>\n",
       "      <td>67.0</td>\n",
       "    </tr>\n",
       "    <tr>\n",
       "      <th>...</th>\n",
       "      <td>...</td>\n",
       "      <td>...</td>\n",
       "      <td>...</td>\n",
       "      <td>...</td>\n",
       "      <td>...</td>\n",
       "      <td>...</td>\n",
       "      <td>...</td>\n",
       "      <td>...</td>\n",
       "      <td>...</td>\n",
       "      <td>...</td>\n",
       "      <td>...</td>\n",
       "      <td>...</td>\n",
       "      <td>...</td>\n",
       "      <td>...</td>\n",
       "      <td>...</td>\n",
       "      <td>...</td>\n",
       "      <td>...</td>\n",
       "      <td>...</td>\n",
       "      <td>...</td>\n",
       "      <td>...</td>\n",
       "      <td>...</td>\n",
       "    </tr>\n",
       "    <tr>\n",
       "      <th>3995</th>\n",
       "      <td>2179.54</td>\n",
       "      <td>0.993811</td>\n",
       "      <td>0.396627</td>\n",
       "      <td>3.0</td>\n",
       "      <td>7.0</td>\n",
       "      <td>0.0</td>\n",
       "      <td>-2176.46</td>\n",
       "      <td>2.30300</td>\n",
       "      <td>-0.132022</td>\n",
       "      <td>-0.326560</td>\n",
       "      <td>...</td>\n",
       "      <td>16.0</td>\n",
       "      <td>6.0</td>\n",
       "      <td>10.0</td>\n",
       "      <td>11.0</td>\n",
       "      <td>7.0</td>\n",
       "      <td>5.0</td>\n",
       "      <td>1.0</td>\n",
       "      <td>11.0</td>\n",
       "      <td>16.0</td>\n",
       "      <td>63.0</td>\n",
       "    </tr>\n",
       "    <tr>\n",
       "      <th>3996</th>\n",
       "      <td>2179.48</td>\n",
       "      <td>0.989057</td>\n",
       "      <td>0.396627</td>\n",
       "      <td>4.0</td>\n",
       "      <td>15.0</td>\n",
       "      <td>0.0</td>\n",
       "      <td>-2177.68</td>\n",
       "      <td>2.24059</td>\n",
       "      <td>-0.058493</td>\n",
       "      <td>-0.324663</td>\n",
       "      <td>...</td>\n",
       "      <td>16.0</td>\n",
       "      <td>9.0</td>\n",
       "      <td>10.0</td>\n",
       "      <td>11.0</td>\n",
       "      <td>2.0</td>\n",
       "      <td>9.0</td>\n",
       "      <td>5.0</td>\n",
       "      <td>7.0</td>\n",
       "      <td>10.0</td>\n",
       "      <td>78.0</td>\n",
       "    </tr>\n",
       "    <tr>\n",
       "      <th>3997</th>\n",
       "      <td>2177.06</td>\n",
       "      <td>0.854231</td>\n",
       "      <td>0.396627</td>\n",
       "      <td>3.0</td>\n",
       "      <td>7.0</td>\n",
       "      <td>0.0</td>\n",
       "      <td>-2175.31</td>\n",
       "      <td>2.18246</td>\n",
       "      <td>-0.072876</td>\n",
       "      <td>-0.365342</td>\n",
       "      <td>...</td>\n",
       "      <td>7.0</td>\n",
       "      <td>6.0</td>\n",
       "      <td>9.0</td>\n",
       "      <td>7.0</td>\n",
       "      <td>3.0</td>\n",
       "      <td>4.0</td>\n",
       "      <td>3.0</td>\n",
       "      <td>12.0</td>\n",
       "      <td>15.0</td>\n",
       "      <td>64.0</td>\n",
       "    </tr>\n",
       "    <tr>\n",
       "      <th>3998</th>\n",
       "      <td>2175.43</td>\n",
       "      <td>0.892736</td>\n",
       "      <td>0.396627</td>\n",
       "      <td>2.0</td>\n",
       "      <td>3.0</td>\n",
       "      <td>0.0</td>\n",
       "      <td>-2174.89</td>\n",
       "      <td>2.17004</td>\n",
       "      <td>-0.052525</td>\n",
       "      <td>-0.362526</td>\n",
       "      <td>...</td>\n",
       "      <td>9.0</td>\n",
       "      <td>6.0</td>\n",
       "      <td>8.0</td>\n",
       "      <td>9.0</td>\n",
       "      <td>4.0</td>\n",
       "      <td>8.0</td>\n",
       "      <td>3.0</td>\n",
       "      <td>7.0</td>\n",
       "      <td>14.0</td>\n",
       "      <td>64.0</td>\n",
       "    </tr>\n",
       "    <tr>\n",
       "      <th>3999</th>\n",
       "      <td>2180.20</td>\n",
       "      <td>0.994781</td>\n",
       "      <td>0.396627</td>\n",
       "      <td>3.0</td>\n",
       "      <td>7.0</td>\n",
       "      <td>0.0</td>\n",
       "      <td>-2174.28</td>\n",
       "      <td>2.25174</td>\n",
       "      <td>-0.086537</td>\n",
       "      <td>-0.350374</td>\n",
       "      <td>...</td>\n",
       "      <td>20.0</td>\n",
       "      <td>10.0</td>\n",
       "      <td>5.0</td>\n",
       "      <td>9.0</td>\n",
       "      <td>6.0</td>\n",
       "      <td>8.0</td>\n",
       "      <td>2.0</td>\n",
       "      <td>11.0</td>\n",
       "      <td>14.0</td>\n",
       "      <td>65.0</td>\n",
       "    </tr>\n",
       "  </tbody>\n",
       "</table>\n",
       "<p>4000 rows × 306 columns</p>\n",
       "</div>"
      ],
      "text/plain": [
       "         lp__  accept_stat__  stepsize__  treedepth__  n_leapfrog__  \\\n",
       "0     2179.74       0.983416    0.453529          3.0          15.0   \n",
       "1     2178.31       0.919655    0.453529          3.0           7.0   \n",
       "2     2180.18       0.983928    0.453529          3.0          11.0   \n",
       "3     2179.33       0.886777    0.453529          4.0          15.0   \n",
       "4     2177.67       0.971384    0.453529          3.0           7.0   \n",
       "...       ...            ...         ...          ...           ...   \n",
       "3995  2179.54       0.993811    0.396627          3.0           7.0   \n",
       "3996  2179.48       0.989057    0.396627          4.0          15.0   \n",
       "3997  2177.06       0.854231    0.396627          3.0           7.0   \n",
       "3998  2175.43       0.892736    0.396627          2.0           3.0   \n",
       "3999  2180.20       0.994781    0.396627          3.0           7.0   \n",
       "\n",
       "      divergent__  energy__    alpha  co2_emission_coef  food_supply_coef  \\\n",
       "0             0.0  -2177.03  2.27427          -0.055694         -0.374632   \n",
       "1             0.0  -2176.79  2.31274          -0.011633         -0.369950   \n",
       "2             0.0  -2176.26  2.30201          -0.118125         -0.296382   \n",
       "3             0.0  -2177.51  2.28069          -0.028782         -0.372698   \n",
       "4             0.0  -2176.61  2.28114          -0.110492         -0.295969   \n",
       "...           ...       ...      ...                ...               ...   \n",
       "3995          0.0  -2176.46  2.30300          -0.132022         -0.326560   \n",
       "3996          0.0  -2177.68  2.24059          -0.058493         -0.324663   \n",
       "3997          0.0  -2175.31  2.18246          -0.072876         -0.365342   \n",
       "3998          0.0  -2174.89  2.17004          -0.052525         -0.362526   \n",
       "3999          0.0  -2174.28  2.25174          -0.086537         -0.350374   \n",
       "\n",
       "      ...  predicted_child_mortality[89]  predicted_child_mortality[90]  \\\n",
       "0     ...                           14.0                           10.0   \n",
       "1     ...                           18.0                           10.0   \n",
       "2     ...                           21.0                            8.0   \n",
       "3     ...                           19.0                            7.0   \n",
       "4     ...                           13.0                            2.0   \n",
       "...   ...                            ...                            ...   \n",
       "3995  ...                           16.0                            6.0   \n",
       "3996  ...                           16.0                            9.0   \n",
       "3997  ...                            7.0                            6.0   \n",
       "3998  ...                            9.0                            6.0   \n",
       "3999  ...                           20.0                           10.0   \n",
       "\n",
       "      predicted_child_mortality[91]  predicted_child_mortality[92]  \\\n",
       "0                              11.0                            4.0   \n",
       "1                               7.0                           10.0   \n",
       "2                               5.0                           12.0   \n",
       "3                               4.0                            7.0   \n",
       "4                              10.0                            6.0   \n",
       "...                             ...                            ...   \n",
       "3995                           10.0                           11.0   \n",
       "3996                           10.0                           11.0   \n",
       "3997                            9.0                            7.0   \n",
       "3998                            8.0                            9.0   \n",
       "3999                            5.0                            9.0   \n",
       "\n",
       "      predicted_child_mortality[93]  predicted_child_mortality[94]  \\\n",
       "0                               6.0                            6.0   \n",
       "1                               5.0                            8.0   \n",
       "2                               6.0                            6.0   \n",
       "3                               7.0                            8.0   \n",
       "4                               6.0                            9.0   \n",
       "...                             ...                            ...   \n",
       "3995                            7.0                            5.0   \n",
       "3996                            2.0                            9.0   \n",
       "3997                            3.0                            4.0   \n",
       "3998                            4.0                            8.0   \n",
       "3999                            6.0                            8.0   \n",
       "\n",
       "      predicted_child_mortality[95]  predicted_child_mortality[96]  \\\n",
       "0                               2.0                            8.0   \n",
       "1                               2.0                           16.0   \n",
       "2                               3.0                           13.0   \n",
       "3                               6.0                           16.0   \n",
       "4                               1.0                           13.0   \n",
       "...                             ...                            ...   \n",
       "3995                            1.0                           11.0   \n",
       "3996                            5.0                            7.0   \n",
       "3997                            3.0                           12.0   \n",
       "3998                            3.0                            7.0   \n",
       "3999                            2.0                           11.0   \n",
       "\n",
       "      predicted_child_mortality[97]  predicted_child_mortality[98]  \n",
       "0                              12.0                           50.0  \n",
       "1                              12.0                           74.0  \n",
       "2                              18.0                           65.0  \n",
       "3                              12.0                           56.0  \n",
       "4                               9.0                           67.0  \n",
       "...                             ...                            ...  \n",
       "3995                           16.0                           63.0  \n",
       "3996                           10.0                           78.0  \n",
       "3997                           15.0                           64.0  \n",
       "3998                           14.0                           64.0  \n",
       "3999                           14.0                           65.0  \n",
       "\n",
       "[4000 rows x 306 columns]"
      ]
     },
     "execution_count": 74,
     "metadata": {},
     "output_type": "execute_result"
    }
   ],
   "source": [
    "df_fit_1 = fit_1.draws_pd()\n",
    "df_fit_1"
   ]
  },
  {
   "cell_type": "code",
   "execution_count": 75,
   "metadata": {},
   "outputs": [],
   "source": [
    "means = []\n",
    "medians = []\n",
    "stds = []\n",
    "for i in range(1, 99):\n",
    "    means.append(df_fit_1[\"predicted_child_mortality[\" + str(i) + \"]\"].mean())"
   ]
  },
  {
   "cell_type": "code",
   "execution_count": 76,
   "metadata": {},
   "outputs": [
    {
     "data": {
      "text/plain": [
       "0.0022346938775505976"
      ]
     },
     "execution_count": 76,
     "metadata": {},
     "output_type": "execute_result"
    }
   ],
   "source": [
    "abs(np.array(means).mean() - data['child_mortality'].mean())"
   ]
  },
  {
   "attachments": {},
   "cell_type": "markdown",
   "metadata": {},
   "source": [
    "# MODEL FITTING 2"
   ]
  },
  {
   "cell_type": "code",
   "execution_count": 80,
   "metadata": {},
   "outputs": [
    {
     "name": "stderr",
     "output_type": "stream",
     "text": [
      "INFO:cmdstanpy:found newer exe file, not recompiling\n"
     ]
    }
   ],
   "source": [
    "model_2=CmdStanModel(stan_file='posterior_2.stan')"
   ]
  },
  {
   "cell_type": "code",
   "execution_count": 81,
   "metadata": {},
   "outputs": [
    {
     "name": "stderr",
     "output_type": "stream",
     "text": [
      "INFO:cmdstanpy:CmdStan start processing\n",
      "chain 1 |\u001b[33m          \u001b[0m| 00:00 Status\n",
      "\u001b[A\n",
      "\n",
      "chain 1 |\u001b[33m▍         \u001b[0m| 00:00 Status\n",
      "\u001b[A\n",
      "\n",
      "chain 1 |\u001b[33m▉         \u001b[0m| 00:00 Iteration:    1 / 2000 [  0%]  (Warmup)\n",
      "\u001b[A\n",
      "\n",
      "\u001b[A\u001b[A\n",
      "\n",
      "\u001b[A\u001b[A\n",
      "chain 1 |\u001b[33m█▊        \u001b[0m| 00:00 Iteration:  200 / 2000 [ 10%]  (Warmup)\n",
      "chain 1 |\u001b[33m██▋       \u001b[0m| 00:00 Iteration:  400 / 2000 [ 20%]  (Warmup)\n",
      "\n",
      "chain 1 |\u001b[33m████      \u001b[0m| 00:00 Iteration:  700 / 2000 [ 35%]  (Warmup)\n",
      "\u001b[A\n",
      "\n",
      "\u001b[A\u001b[A\n",
      "\u001b[A\n",
      "\n",
      "chain 1 |\u001b[34m█████▉    \u001b[0m| 00:00 Iteration: 1001 / 2000 [ 50%]  (Sampling)\n",
      "\u001b[A\n",
      "\n",
      "chain 1 |\u001b[34m██████▊   \u001b[0m| 00:01 Iteration: 1200 / 2000 [ 60%]  (Sampling)\n",
      "chain 1 |\u001b[34m███████▋  \u001b[0m| 00:01 Iteration: 1400 / 2000 [ 70%]  (Sampling)\n",
      "\n",
      "\u001b[A\u001b[A\n",
      "\u001b[A\n",
      "chain 1 |\u001b[34m████████▋ \u001b[0m| 00:01 Iteration: 1600 / 2000 [ 80%]  (Sampling)\n",
      "\n",
      "\u001b[A\u001b[A\n",
      "\n",
      "chain 1 |\u001b[34m██████████\u001b[0m| 00:01 Sampling completed                       \n",
      "chain 2 |\u001b[34m██████████\u001b[0m| 00:01 Sampling completed                       \n",
      "chain 3 |\u001b[34m██████████\u001b[0m| 00:01 Sampling completed                       \n",
      "chain 4 |\u001b[34m██████████\u001b[0m| 00:01 Sampling completed                       "
     ]
    },
    {
     "name": "stdout",
     "output_type": "stream",
     "text": [
      "                                                                                                                                                                                                                                                                                                                                "
     ]
    },
    {
     "name": "stderr",
     "output_type": "stream",
     "text": [
      "\n",
      "INFO:cmdstanpy:CmdStan done processing.\n"
     ]
    },
    {
     "name": "stdout",
     "output_type": "stream",
     "text": [
      "\n"
     ]
    }
   ],
   "source": [
    "fit_2=model_2.sample(data=dict(N=len(data), child_mortality=data.child_mortality.values, co2_emission=data.co2_emission.values, food_supply=data.food_supply.values, med_beds=data.med_beds.values, gender_equality=data.gender_equality.values), seed=20052020)"
   ]
  },
  {
   "cell_type": "code",
   "execution_count": 82,
   "metadata": {},
   "outputs": [
    {
     "data": {
      "text/html": [
       "<div>\n",
       "<style scoped>\n",
       "    .dataframe tbody tr th:only-of-type {\n",
       "        vertical-align: middle;\n",
       "    }\n",
       "\n",
       "    .dataframe tbody tr th {\n",
       "        vertical-align: top;\n",
       "    }\n",
       "\n",
       "    .dataframe thead th {\n",
       "        text-align: right;\n",
       "    }\n",
       "</style>\n",
       "<table border=\"1\" class=\"dataframe\">\n",
       "  <thead>\n",
       "    <tr style=\"text-align: right;\">\n",
       "      <th></th>\n",
       "      <th>lp__</th>\n",
       "      <th>accept_stat__</th>\n",
       "      <th>stepsize__</th>\n",
       "      <th>treedepth__</th>\n",
       "      <th>n_leapfrog__</th>\n",
       "      <th>divergent__</th>\n",
       "      <th>energy__</th>\n",
       "      <th>alpha[1]</th>\n",
       "      <th>alpha[2]</th>\n",
       "      <th>alpha[3]</th>\n",
       "      <th>...</th>\n",
       "      <th>predicted_child_mortality[89]</th>\n",
       "      <th>predicted_child_mortality[90]</th>\n",
       "      <th>predicted_child_mortality[91]</th>\n",
       "      <th>predicted_child_mortality[92]</th>\n",
       "      <th>predicted_child_mortality[93]</th>\n",
       "      <th>predicted_child_mortality[94]</th>\n",
       "      <th>predicted_child_mortality[95]</th>\n",
       "      <th>predicted_child_mortality[96]</th>\n",
       "      <th>predicted_child_mortality[97]</th>\n",
       "      <th>predicted_child_mortality[98]</th>\n",
       "    </tr>\n",
       "  </thead>\n",
       "  <tbody>\n",
       "    <tr>\n",
       "      <th>0</th>\n",
       "      <td>2293.02</td>\n",
       "      <td>0.998363</td>\n",
       "      <td>0.159901</td>\n",
       "      <td>5.0</td>\n",
       "      <td>31.0</td>\n",
       "      <td>0.0</td>\n",
       "      <td>-2229.39</td>\n",
       "      <td>3.99024</td>\n",
       "      <td>2.58010</td>\n",
       "      <td>1.08845</td>\n",
       "      <td>...</td>\n",
       "      <td>40.0</td>\n",
       "      <td>16.0</td>\n",
       "      <td>15.0</td>\n",
       "      <td>7.0</td>\n",
       "      <td>2.0</td>\n",
       "      <td>2.0</td>\n",
       "      <td>7.0</td>\n",
       "      <td>17.0</td>\n",
       "      <td>28.0</td>\n",
       "      <td>34.0</td>\n",
       "    </tr>\n",
       "    <tr>\n",
       "      <th>1</th>\n",
       "      <td>2295.86</td>\n",
       "      <td>0.995166</td>\n",
       "      <td>0.159901</td>\n",
       "      <td>5.0</td>\n",
       "      <td>31.0</td>\n",
       "      <td>0.0</td>\n",
       "      <td>-2249.48</td>\n",
       "      <td>4.03889</td>\n",
       "      <td>1.91307</td>\n",
       "      <td>1.84545</td>\n",
       "      <td>...</td>\n",
       "      <td>61.0</td>\n",
       "      <td>19.0</td>\n",
       "      <td>19.0</td>\n",
       "      <td>14.0</td>\n",
       "      <td>18.0</td>\n",
       "      <td>11.0</td>\n",
       "      <td>3.0</td>\n",
       "      <td>20.0</td>\n",
       "      <td>17.0</td>\n",
       "      <td>51.0</td>\n",
       "    </tr>\n",
       "    <tr>\n",
       "      <th>2</th>\n",
       "      <td>2308.88</td>\n",
       "      <td>0.992513</td>\n",
       "      <td>0.159901</td>\n",
       "      <td>5.0</td>\n",
       "      <td>31.0</td>\n",
       "      <td>0.0</td>\n",
       "      <td>-2256.84</td>\n",
       "      <td>3.83519</td>\n",
       "      <td>2.34499</td>\n",
       "      <td>1.39232</td>\n",
       "      <td>...</td>\n",
       "      <td>53.0</td>\n",
       "      <td>16.0</td>\n",
       "      <td>17.0</td>\n",
       "      <td>11.0</td>\n",
       "      <td>2.0</td>\n",
       "      <td>7.0</td>\n",
       "      <td>16.0</td>\n",
       "      <td>24.0</td>\n",
       "      <td>26.0</td>\n",
       "      <td>51.0</td>\n",
       "    </tr>\n",
       "    <tr>\n",
       "      <th>3</th>\n",
       "      <td>2311.28</td>\n",
       "      <td>0.755985</td>\n",
       "      <td>0.159901</td>\n",
       "      <td>5.0</td>\n",
       "      <td>31.0</td>\n",
       "      <td>0.0</td>\n",
       "      <td>-2253.56</td>\n",
       "      <td>3.84292</td>\n",
       "      <td>2.30534</td>\n",
       "      <td>1.85792</td>\n",
       "      <td>...</td>\n",
       "      <td>36.0</td>\n",
       "      <td>6.0</td>\n",
       "      <td>18.0</td>\n",
       "      <td>14.0</td>\n",
       "      <td>15.0</td>\n",
       "      <td>9.0</td>\n",
       "      <td>4.0</td>\n",
       "      <td>26.0</td>\n",
       "      <td>16.0</td>\n",
       "      <td>60.0</td>\n",
       "    </tr>\n",
       "    <tr>\n",
       "      <th>4</th>\n",
       "      <td>2311.42</td>\n",
       "      <td>0.930572</td>\n",
       "      <td>0.159901</td>\n",
       "      <td>5.0</td>\n",
       "      <td>31.0</td>\n",
       "      <td>0.0</td>\n",
       "      <td>-2261.38</td>\n",
       "      <td>4.07787</td>\n",
       "      <td>2.51342</td>\n",
       "      <td>1.09761</td>\n",
       "      <td>...</td>\n",
       "      <td>51.0</td>\n",
       "      <td>8.0</td>\n",
       "      <td>13.0</td>\n",
       "      <td>8.0</td>\n",
       "      <td>10.0</td>\n",
       "      <td>13.0</td>\n",
       "      <td>5.0</td>\n",
       "      <td>16.0</td>\n",
       "      <td>9.0</td>\n",
       "      <td>63.0</td>\n",
       "    </tr>\n",
       "    <tr>\n",
       "      <th>...</th>\n",
       "      <td>...</td>\n",
       "      <td>...</td>\n",
       "      <td>...</td>\n",
       "      <td>...</td>\n",
       "      <td>...</td>\n",
       "      <td>...</td>\n",
       "      <td>...</td>\n",
       "      <td>...</td>\n",
       "      <td>...</td>\n",
       "      <td>...</td>\n",
       "      <td>...</td>\n",
       "      <td>...</td>\n",
       "      <td>...</td>\n",
       "      <td>...</td>\n",
       "      <td>...</td>\n",
       "      <td>...</td>\n",
       "      <td>...</td>\n",
       "      <td>...</td>\n",
       "      <td>...</td>\n",
       "      <td>...</td>\n",
       "      <td>...</td>\n",
       "    </tr>\n",
       "    <tr>\n",
       "      <th>3995</th>\n",
       "      <td>2307.03</td>\n",
       "      <td>0.971966</td>\n",
       "      <td>0.175374</td>\n",
       "      <td>4.0</td>\n",
       "      <td>15.0</td>\n",
       "      <td>0.0</td>\n",
       "      <td>-2243.86</td>\n",
       "      <td>3.84610</td>\n",
       "      <td>2.16089</td>\n",
       "      <td>1.56256</td>\n",
       "      <td>...</td>\n",
       "      <td>48.0</td>\n",
       "      <td>9.0</td>\n",
       "      <td>9.0</td>\n",
       "      <td>13.0</td>\n",
       "      <td>7.0</td>\n",
       "      <td>7.0</td>\n",
       "      <td>10.0</td>\n",
       "      <td>20.0</td>\n",
       "      <td>12.0</td>\n",
       "      <td>30.0</td>\n",
       "    </tr>\n",
       "    <tr>\n",
       "      <th>3996</th>\n",
       "      <td>2307.89</td>\n",
       "      <td>0.945017</td>\n",
       "      <td>0.175374</td>\n",
       "      <td>5.0</td>\n",
       "      <td>31.0</td>\n",
       "      <td>0.0</td>\n",
       "      <td>-2260.24</td>\n",
       "      <td>3.87961</td>\n",
       "      <td>2.14019</td>\n",
       "      <td>1.58283</td>\n",
       "      <td>...</td>\n",
       "      <td>51.0</td>\n",
       "      <td>14.0</td>\n",
       "      <td>14.0</td>\n",
       "      <td>5.0</td>\n",
       "      <td>10.0</td>\n",
       "      <td>7.0</td>\n",
       "      <td>5.0</td>\n",
       "      <td>23.0</td>\n",
       "      <td>24.0</td>\n",
       "      <td>41.0</td>\n",
       "    </tr>\n",
       "    <tr>\n",
       "      <th>3997</th>\n",
       "      <td>2303.07</td>\n",
       "      <td>0.858659</td>\n",
       "      <td>0.175374</td>\n",
       "      <td>5.0</td>\n",
       "      <td>31.0</td>\n",
       "      <td>0.0</td>\n",
       "      <td>-2249.76</td>\n",
       "      <td>3.90765</td>\n",
       "      <td>2.08063</td>\n",
       "      <td>1.88169</td>\n",
       "      <td>...</td>\n",
       "      <td>52.0</td>\n",
       "      <td>19.0</td>\n",
       "      <td>18.0</td>\n",
       "      <td>6.0</td>\n",
       "      <td>8.0</td>\n",
       "      <td>5.0</td>\n",
       "      <td>7.0</td>\n",
       "      <td>20.0</td>\n",
       "      <td>21.0</td>\n",
       "      <td>47.0</td>\n",
       "    </tr>\n",
       "    <tr>\n",
       "      <th>3998</th>\n",
       "      <td>2304.62</td>\n",
       "      <td>0.893766</td>\n",
       "      <td>0.175374</td>\n",
       "      <td>5.0</td>\n",
       "      <td>31.0</td>\n",
       "      <td>0.0</td>\n",
       "      <td>-2245.89</td>\n",
       "      <td>4.09963</td>\n",
       "      <td>1.84558</td>\n",
       "      <td>1.61858</td>\n",
       "      <td>...</td>\n",
       "      <td>30.0</td>\n",
       "      <td>17.0</td>\n",
       "      <td>15.0</td>\n",
       "      <td>7.0</td>\n",
       "      <td>7.0</td>\n",
       "      <td>7.0</td>\n",
       "      <td>6.0</td>\n",
       "      <td>22.0</td>\n",
       "      <td>15.0</td>\n",
       "      <td>37.0</td>\n",
       "    </tr>\n",
       "    <tr>\n",
       "      <th>3999</th>\n",
       "      <td>2300.80</td>\n",
       "      <td>0.786277</td>\n",
       "      <td>0.175374</td>\n",
       "      <td>5.0</td>\n",
       "      <td>31.0</td>\n",
       "      <td>0.0</td>\n",
       "      <td>-2233.01</td>\n",
       "      <td>3.95637</td>\n",
       "      <td>2.34007</td>\n",
       "      <td>1.90127</td>\n",
       "      <td>...</td>\n",
       "      <td>28.0</td>\n",
       "      <td>14.0</td>\n",
       "      <td>19.0</td>\n",
       "      <td>12.0</td>\n",
       "      <td>6.0</td>\n",
       "      <td>13.0</td>\n",
       "      <td>2.0</td>\n",
       "      <td>16.0</td>\n",
       "      <td>26.0</td>\n",
       "      <td>43.0</td>\n",
       "    </tr>\n",
       "  </tbody>\n",
       "</table>\n",
       "<p>4000 rows × 403 columns</p>\n",
       "</div>"
      ],
      "text/plain": [
       "         lp__  accept_stat__  stepsize__  treedepth__  n_leapfrog__  \\\n",
       "0     2293.02       0.998363    0.159901          5.0          31.0   \n",
       "1     2295.86       0.995166    0.159901          5.0          31.0   \n",
       "2     2308.88       0.992513    0.159901          5.0          31.0   \n",
       "3     2311.28       0.755985    0.159901          5.0          31.0   \n",
       "4     2311.42       0.930572    0.159901          5.0          31.0   \n",
       "...       ...            ...         ...          ...           ...   \n",
       "3995  2307.03       0.971966    0.175374          4.0          15.0   \n",
       "3996  2307.89       0.945017    0.175374          5.0          31.0   \n",
       "3997  2303.07       0.858659    0.175374          5.0          31.0   \n",
       "3998  2304.62       0.893766    0.175374          5.0          31.0   \n",
       "3999  2300.80       0.786277    0.175374          5.0          31.0   \n",
       "\n",
       "      divergent__  energy__  alpha[1]  alpha[2]  alpha[3]  ...  \\\n",
       "0             0.0  -2229.39   3.99024   2.58010   1.08845  ...   \n",
       "1             0.0  -2249.48   4.03889   1.91307   1.84545  ...   \n",
       "2             0.0  -2256.84   3.83519   2.34499   1.39232  ...   \n",
       "3             0.0  -2253.56   3.84292   2.30534   1.85792  ...   \n",
       "4             0.0  -2261.38   4.07787   2.51342   1.09761  ...   \n",
       "...           ...       ...       ...       ...       ...  ...   \n",
       "3995          0.0  -2243.86   3.84610   2.16089   1.56256  ...   \n",
       "3996          0.0  -2260.24   3.87961   2.14019   1.58283  ...   \n",
       "3997          0.0  -2249.76   3.90765   2.08063   1.88169  ...   \n",
       "3998          0.0  -2245.89   4.09963   1.84558   1.61858  ...   \n",
       "3999          0.0  -2233.01   3.95637   2.34007   1.90127  ...   \n",
       "\n",
       "      predicted_child_mortality[89]  predicted_child_mortality[90]  \\\n",
       "0                              40.0                           16.0   \n",
       "1                              61.0                           19.0   \n",
       "2                              53.0                           16.0   \n",
       "3                              36.0                            6.0   \n",
       "4                              51.0                            8.0   \n",
       "...                             ...                            ...   \n",
       "3995                           48.0                            9.0   \n",
       "3996                           51.0                           14.0   \n",
       "3997                           52.0                           19.0   \n",
       "3998                           30.0                           17.0   \n",
       "3999                           28.0                           14.0   \n",
       "\n",
       "      predicted_child_mortality[91]  predicted_child_mortality[92]  \\\n",
       "0                              15.0                            7.0   \n",
       "1                              19.0                           14.0   \n",
       "2                              17.0                           11.0   \n",
       "3                              18.0                           14.0   \n",
       "4                              13.0                            8.0   \n",
       "...                             ...                            ...   \n",
       "3995                            9.0                           13.0   \n",
       "3996                           14.0                            5.0   \n",
       "3997                           18.0                            6.0   \n",
       "3998                           15.0                            7.0   \n",
       "3999                           19.0                           12.0   \n",
       "\n",
       "      predicted_child_mortality[93]  predicted_child_mortality[94]  \\\n",
       "0                               2.0                            2.0   \n",
       "1                              18.0                           11.0   \n",
       "2                               2.0                            7.0   \n",
       "3                              15.0                            9.0   \n",
       "4                              10.0                           13.0   \n",
       "...                             ...                            ...   \n",
       "3995                            7.0                            7.0   \n",
       "3996                           10.0                            7.0   \n",
       "3997                            8.0                            5.0   \n",
       "3998                            7.0                            7.0   \n",
       "3999                            6.0                           13.0   \n",
       "\n",
       "      predicted_child_mortality[95]  predicted_child_mortality[96]  \\\n",
       "0                               7.0                           17.0   \n",
       "1                               3.0                           20.0   \n",
       "2                              16.0                           24.0   \n",
       "3                               4.0                           26.0   \n",
       "4                               5.0                           16.0   \n",
       "...                             ...                            ...   \n",
       "3995                           10.0                           20.0   \n",
       "3996                            5.0                           23.0   \n",
       "3997                            7.0                           20.0   \n",
       "3998                            6.0                           22.0   \n",
       "3999                            2.0                           16.0   \n",
       "\n",
       "      predicted_child_mortality[97]  predicted_child_mortality[98]  \n",
       "0                              28.0                           34.0  \n",
       "1                              17.0                           51.0  \n",
       "2                              26.0                           51.0  \n",
       "3                              16.0                           60.0  \n",
       "4                               9.0                           63.0  \n",
       "...                             ...                            ...  \n",
       "3995                           12.0                           30.0  \n",
       "3996                           24.0                           41.0  \n",
       "3997                           21.0                           47.0  \n",
       "3998                           15.0                           37.0  \n",
       "3999                           26.0                           43.0  \n",
       "\n",
       "[4000 rows x 403 columns]"
      ]
     },
     "execution_count": 82,
     "metadata": {},
     "output_type": "execute_result"
    }
   ],
   "source": [
    "df_fit_2 = fit_2.draws_pd()\n",
    "df_fit_2"
   ]
  },
  {
   "cell_type": "code",
   "execution_count": 84,
   "metadata": {},
   "outputs": [],
   "source": [
    "means = []\n",
    "stds = []\n",
    "for i in range(1, 99):\n",
    "    means.append(df_fit_2[\"predicted_child_mortality[\" + str(i) + \"]\"].mean())"
   ]
  },
  {
   "cell_type": "code",
   "execution_count": 85,
   "metadata": {},
   "outputs": [
    {
     "data": {
      "text/plain": [
       "0.08010459183673646"
      ]
     },
     "execution_count": 85,
     "metadata": {},
     "output_type": "execute_result"
    }
   ],
   "source": [
    "abs(np.array(means).mean() - data['child_mortality'].mean())"
   ]
  },
  {
   "attachments": {},
   "cell_type": "markdown",
   "metadata": {},
   "source": [
    "# Model comparison"
   ]
  },
  {
   "cell_type": "code",
   "execution_count": 86,
   "metadata": {},
   "outputs": [],
   "source": [
    "compare_model_loo = az.compare(\n",
    "    {\n",
    "        \"fit_1\": az.from_cmdstanpy(fit_1),\n",
    "        \"fit_2\": az.from_cmdstanpy(fit_2)\n",
    "    },\n",
    "    ic=\"loo\",\n",
    "    scale=\"deviance\"\n",
    ")"
   ]
  },
  {
   "cell_type": "code",
   "execution_count": 87,
   "metadata": {},
   "outputs": [],
   "source": [
    "compare_model_waic = az.compare(\n",
    "    {\n",
    "        \"fit_1\": az.from_cmdstanpy(fit_1),\n",
    "        \"fit_2\": az.from_cmdstanpy(fit_2)\n",
    "    },\n",
    "    ic=\"waic\",\n",
    "    scale=\"deviance\"\n",
    ")"
   ]
  },
  {
   "cell_type": "code",
   "execution_count": 88,
   "metadata": {},
   "outputs": [
    {
     "data": {
      "image/png": "[encoded data removed]",
      "text/plain": [
       "<Figure size 432x288 with 2 Axes>"
      ]
     },
     "metadata": {
      "needs_background": "light"
     },
     "output_type": "display_data"
    }
   ],
   "source": [
    "_, ax = plt.subplots(nrows=2, ncols=1)\n",
    "az.plot_compare(compare_model_loo, insample_dev=True, ax=ax[0])\n",
    "ax[0].set_title(\"loo criteria\")\n",
    "az.plot_compare(compare_model_waic, insample_dev=True, ax=ax[1])\n",
    "ax[1].set_title(\"waic criteria\")\n",
    "plt.tight_layout()\n",
    "plt.show()"
   ]
  },
  {
   "cell_type": "code",
   "execution_count": 89,
   "metadata": {},
   "outputs": [
    {
     "name": "stdout",
     "output_type": "stream",
     "text": [
      "       rank         loo      p_loo       d_loo    weight         se  \\\n",
      "fit_2     0  579.514572  64.826769    0.000000  0.577383  12.923534   \n",
      "fit_1     1  715.131933  20.689046  135.617361  0.422617  70.050458   \n",
      "\n",
      "             dse  warning loo_scale  \n",
      "fit_2   0.000000     True  deviance  \n",
      "fit_1  64.120407    False  deviance  \n"
     ]
    }
   ],
   "source": [
    "print(compare_model_loo)"
   ]
  },
  {
   "cell_type": "code",
   "execution_count": 90,
   "metadata": {},
   "outputs": [
    {
     "name": "stdout",
     "output_type": "stream",
     "text": [
      "       rank        waic     p_waic      d_waic    weight         se  \\\n",
      "fit_2     0  535.234182  42.686574    0.000000  0.882389  11.217060   \n",
      "fit_1     1  715.241015  20.743587  180.006833  0.117611  70.210369   \n",
      "\n",
      "             dse  warning waic_scale  \n",
      "fit_2   0.000000     True   deviance  \n",
      "fit_1  65.259648     True   deviance  \n"
     ]
    }
   ],
   "source": [
    "print(compare_model_waic)"
   ]
  }
 ],
 "metadata": {
  "kernelspec": {
   "display_name": "Python 3",
   "language": "python",
   "name": "python3"
  },
  "language_info": {
   "codemirror_mode": {
    "name": "ipython",
    "version": 3
   },
   "file_extension": ".py",
   "mimetype": "text/x-python",
   "name": "python",
   "nbconvert_exporter": "python",
   "pygments_lexer": "ipython3",
   "version": "3.9.11"
  },
  "orig_nbformat": 4
 },
 "nbformat": 4,
 "nbformat_minor": 2
}
